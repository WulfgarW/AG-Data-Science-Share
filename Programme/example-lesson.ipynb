{
 "cells": [
  {
   "attachments": {},
   "cell_type": "markdown",
   "metadata": {},
   "source": [
    "# Template to execute python code with pyplot\n"
   ]
  },
  {
   "cell_type": "code",
   "execution_count": null,
   "metadata": {},
   "outputs": [
    {
     "ename": "",
     "evalue": "",
     "output_type": "error",
     "traceback": [
      "\u001b[1;31mDas Ausführen von Zellen mit \"/usr/bin/python3\" erfordert das Paket ipykernel.\n",
      "\u001b[1;31mFühren Sie den folgenden Befehl aus, um „ipykernel“ in der Python-Umgebung zu installieren. \n",
      "\u001b[1;31mBefehl: '/usr/bin/python3 -m pip install ipykernel -U --user --force-reinstall'"
     ]
    }
   ],
   "source": [
    "import math\n",
    "import matplotlib.pyplot as plt\n",
    "\n",
    "def GedämpfteSchwingung(x):\n",
    "    # Eine gedämpfte Schwingung mit der Frequenz 5 Hz und einer Dämpfungskonstanten von 0,5 \n",
    "    return math.cos(x*2*math.pi)*10*math.e**(-0.6*x)\n",
    "\n",
    "x=[]\n",
    "y=[]\n",
    "for n in range(100):\n",
    "    # Wir erzeugen eine Liste mit x-Koordinaten und eine korrespondierende mit y-Koordinaten\n",
    "    x.append(n/20)\n",
    "    y.append(GedämpfteSchwingung(x[len(x)-1]))\n",
    "plt.plot(x, y,'ro') # Es sollen die erzeugten Datenpaare (x[i],y[i]) als rote Kreise (='ro') geplottet werden\n",
    "plt.xlim(0,5) # Hiermit legen wir fest, dass die dargestellte x-Achse von 0 bis 5 gehen soll\n",
    "plt.show()\n",
    "\n",
    "print(\"Programmende erreicht\")"
   ]
  },
  {
   "cell_type": "code",
   "execution_count": null,
   "metadata": {},
   "outputs": [
    {
     "ename": "",
     "evalue": "",
     "output_type": "error",
     "traceback": [
      "\u001b[1;31mDas Ausführen von Zellen mit \"/usr/bin/python3\" erfordert das Paket ipykernel.\n",
      "\u001b[1;31mFühren Sie den folgenden Befehl aus, um „ipykernel“ in der Python-Umgebung zu installieren. \n",
      "\u001b[1;31mBefehl: '/usr/bin/python3 -m pip install ipykernel -U --user --force-reinstall'"
     ]
    }
   ],
   "source": [
    "# replace this comment with a prompt for Copilot that starts with \"create a challenge for a student\" to get useful suggestions\n"
   ]
  },
  {
   "attachments": {},
   "cell_type": "markdown",
   "metadata": {},
   "source": []
  }
 ],
 "metadata": {
  "kernelspec": {
   "display_name": "Python 3",
   "language": "python",
   "name": "python3"
  },
  "language_info": {
   "codemirror_mode": {
    "name": "ipython",
    "version": 3
   },
   "file_extension": ".py",
   "mimetype": "text/x-python",
   "name": "python",
   "nbconvert_exporter": "python",
   "pygments_lexer": "ipython3",
   "version": "3.11.6"
  },
  "orig_nbformat": 4,
  "vscode": {
   "interpreter": {
    "hash": "5c7b89af1651d0b8571dde13640ecdccf7d5a6204171d6ab33e7c296e100e08a"
   }
  }
 },
 "nbformat": 4,
 "nbformat_minor": 2
}
